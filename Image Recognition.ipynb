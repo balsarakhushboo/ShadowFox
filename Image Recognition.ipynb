{
 "cells": [
  {
   "cell_type": "markdown",
   "id": "c64d7f5b",
   "metadata": {},
   "source": [
    "#  ShadowFox Virtual Internship"
   ]
  },
  {
   "cell_type": "markdown",
   "id": "f79ce7d6",
   "metadata": {},
   "source": [
    "## Beginner's level task"
   ]
  },
  {
   "cell_type": "markdown",
   "id": "915a8642",
   "metadata": {},
   "source": [
    "### Image Tagging with TensorFlow"
   ]
  },
  {
   "cell_type": "code",
   "execution_count": 1,
   "id": "4bfcab8a",
   "metadata": {},
   "outputs": [],
   "source": [
    "import cv2"
   ]
  },
  {
   "cell_type": "code",
   "execution_count": 2,
   "id": "d01964d3",
   "metadata": {},
   "outputs": [],
   "source": [
    "face_cap = cv2.CascadeClassifier(\"C:\\\\Users\\\\dell\\\\anaconda3\\\\Lib\\\\site-packages\\\\cv2\\\\data\\\\haarcascade_frontalface_default.xml\") # for face recognition\n",
    "video_cap = cv2.VideoCapture(0) #runtime camera access\n",
    "while True : \n",
    "    ret, video_data = video_cap.read()\n",
    "    col =cv2.cvtColor(video_data, cv2.COLOR_BGR2GRAY )\n",
    "    faces = face_cap.detectMultiScale( \n",
    "    col,\n",
    "    scaleFactor=1.1,\n",
    "    minNeighbors=5,\n",
    "    minSize=(30,30),\n",
    "    flags = cv2.CASCADE_SCALE_IMAGE\n",
    "    )\n",
    "    for (x,y,w,h) in faces :\n",
    "        cv2.rectangle(video_data, (x,y),(x+w,y+h), (0,255,0),2)\n",
    "    cv2.imshow(\"video_live\",video_data)\n",
    "    if cv2.waitKey(10) == ord(\"a\"): #press a to close camera\n",
    "        break\n",
    "video_cap.release()"
   ]
  },
  {
   "cell_type": "code",
   "execution_count": null,
   "id": "8ce026fa",
   "metadata": {},
   "outputs": [],
   "source": []
  }
 ],
 "metadata": {
  "kernelspec": {
   "display_name": "Python 3 (ipykernel)",
   "language": "python",
   "name": "python3"
  },
  "language_info": {
   "codemirror_mode": {
    "name": "ipython",
    "version": 3
   },
   "file_extension": ".py",
   "mimetype": "text/x-python",
   "name": "python",
   "nbconvert_exporter": "python",
   "pygments_lexer": "ipython3",
   "version": "3.11.5"
  }
 },
 "nbformat": 4,
 "nbformat_minor": 5
}
